{
  "nbformat": 4,
  "nbformat_minor": 0,
  "metadata": {
    "colab": {
      "provenance": []
    },
    "kernelspec": {
      "name": "python3",
      "display_name": "Python 3"
    },
    "language_info": {
      "name": "python"
    }
  },
  "cells": [
    {
      "cell_type": "code",
      "execution_count": null,
      "metadata": {
        "colab": {
          "base_uri": "https://localhost:8080/"
        },
        "id": "BVmV8SUH_LcU",
        "outputId": "8fba6c0d-f1c6-4876-e00b-7dfe0d8d6ff1"
      },
      "outputs": [
        {
          "output_type": "stream",
          "name": "stdout",
          "text": [
            "/content\n",
            "Mounted at /content/gdrive\n"
          ]
        }
      ],
      "source": [
        "import os\n",
        "cd = os.getcwd()\n",
        "print(cd)\n",
        "\n",
        "from google.colab import drive\n",
        "drive.mount('/content/gdrive')\n",
        "\n",
        "import pandas as pd\n",
        "import numpy as np"
      ]
    },
    {
      "cell_type": "code",
      "source": [
        "import torch\n",
        "from torch import nn\n",
        "import torch.nn.functional as F\n",
        "from torch.autograd import *\n",
        "import torch.optim as optim"
      ],
      "metadata": {
        "id": "FY-CEadr_aVQ"
      },
      "execution_count": null,
      "outputs": []
    },
    {
      "cell_type": "markdown",
      "source": [
        "# Load data"
      ],
      "metadata": {
        "id": "hMRPm8-l_IWt"
      }
    },
    {
      "cell_type": "code",
      "source": [
        "path = '/content/gdrive/My Drive/Colab Notebooks/SPH6004/TeamShare/ProcessedData/train/'\n",
        "\n",
        "static = pd.read_csv(path+'flat.csv',index_col='patient')\n",
        "\n",
        "dynamic = pd.read_csv(path+'timeseries.csv',index_col='patient')\n",
        "\n",
        "labels = pd.read_csv(path+'labels.csv',index_col='patient')\n",
        "\n",
        "tfid_df = pd.read_csv(path+'tfid_dataframe.csv',index_col='patient')"
      ],
      "metadata": {
        "id": "y5rvtkLpQsL7"
      },
      "execution_count": null,
      "outputs": []
    },
    {
      "cell_type": "code",
      "source": [
        "def add_padding(df,time_col,groupby_col):\n",
        "    # Convert 'time_col' to integer for correct sequence generation\n",
        "    df[time_col] = df[time_col].astype(int)\n",
        "\n",
        "    # Define a function to add missing rows for each group\n",
        "    def add_missing(group):\n",
        "        # Generate the complete sequence of 'time_slot' for the group\n",
        "          complete_sequence = pd.Series(range(1, 5))\n",
        "          group_cp = group.set_index(time_col).reindex(complete_sequence).reset_index().fillna(0)\n",
        "          return group_cp\n",
        "\n",
        "    resampled = df.groupby(groupby_col).apply(add_missing).reset_index(level=1).drop(columns='level_1')\n",
        "    resampled.drop(columns='patient', inplace=True)\n",
        "    resampled.rename(columns={'index': 'time_slot'}, inplace=True)\n",
        "\n",
        "    # Apply the function to each group and concatenate the results\n",
        "    return resampled\n",
        "\n",
        "dyn_reset = dynamic.reset_index()\n",
        "padded_timeseries = add_padding(dyn_reset,'time_slot','patient')"
      ],
      "metadata": {
        "id": "u8tW5WCySMKR"
      },
      "execution_count": null,
      "outputs": []
    },
    {
      "cell_type": "markdown",
      "source": [
        "\n",
        "\n",
        "---\n",
        "# Multi modal LSTM\n",
        "\n",
        "\n",
        "---\n",
        "\n",
        "\n"
      ],
      "metadata": {
        "id": "nhmVzUe3FuSu"
      }
    },
    {
      "cell_type": "code",
      "source": [
        "from sklearn.preprocessing import StandardScaler, MinMaxScaler\n",
        "\n",
        "y = np.array(labels['los_icu']).reshape(-1,1)\n",
        "\n",
        "mm = MinMaxScaler()\n",
        "y_mm = mm.fit_transform(y)\n",
        "\n",
        "from torch.autograd import Variable\n",
        "y_tensors = Variable(torch.Tensor(y_mm))"
      ],
      "metadata": {
        "id": "LnUHHlPiUEko"
      },
      "execution_count": null,
      "outputs": []
    },
    {
      "cell_type": "code",
      "source": [
        "X_ts = padded_timeseries.drop(columns='time_slot')\n",
        "sequence_length = 4\n",
        "input_features = X_ts.shape[1]\n",
        "timeseries_tensor = torch.Tensor(np.array(X_ts)).view(-1, sequence_length, input_features)\n",
        "\n",
        "static_cat_tensor = torch.Tensor(np.array(static.drop(columns=static.columns[range(1,5)])))\n",
        "static_val_tensor = torch.Tensor(np.array(static.iloc[:,range(1,5)] ))\n",
        "\n",
        "tfid_tensor = torch.Tensor(np.array(tfid_df))\n",
        "\n",
        "# checking the size of data\n",
        "print('Shapes:',y_tensors.shape, timeseries_tensor.shape,static_cat_tensor.shape,static_val_tensor.shape,tfid_tensor.shape)"
      ],
      "metadata": {
        "colab": {
          "base_uri": "https://localhost:8080/"
        },
        "outputId": "a46f08a5-c711-4e50-b9dd-29f9e9928f5c",
        "id": "grh1b_MjUEkp"
      },
      "execution_count": null,
      "outputs": [
        {
          "output_type": "stream",
          "name": "stdout",
          "text": [
            "Shapes: torch.Size([12077, 1]) torch.Size([12077, 4, 18]) torch.Size([12077, 27]) torch.Size([12077, 4]) torch.Size([12077, 100])\n"
          ]
        }
      ]
    },
    {
      "cell_type": "code",
      "source": [
        "class FusionLSTM(nn.Module):\n",
        "        def __init__(self, args):\n",
        "            super(FusionLSTM, self).__init__()\n",
        "            self.args = args\n",
        "\n",
        "            #static\n",
        "            self.static_embedding = nn.Embedding(args.static_cat_input, args.embed_size)\n",
        "            self.static_linear = nn.Linear(args.static_val_input, args.embed_size)\n",
        "            self.static_mapping = nn.Sequential(\n",
        "                    nn.Linear ( args.embed_size, args.embed_size),\n",
        "                    nn.ReLU ( ),\n",
        "                    nn.Dropout(0.1),\n",
        "                    nn.Linear ( args.embed_size, args.embed_size),\n",
        "                    nn.ReLU ( ),\n",
        "                    nn.Dropout(0.1),\n",
        "                    )\n",
        "\n",
        "            #dynamic\n",
        "            self.lstm = nn.LSTM (input_size=args.dynamic_input,\n",
        "                                  hidden_size=args.hidden_size,\n",
        "                                  num_layers=args.num_layers,\n",
        "                                  batch_first=True,\n",
        "                                  bidirectional=True)\n",
        "\n",
        "            lstm_size = args.embed_size\n",
        "\n",
        "            lstm_size *= 2\n",
        "\n",
        "            self.lstm_mapping = nn.Sequential (\n",
        "                nn.Linear (lstm_size, args.embed_size),\n",
        "                nn.ReLU ( ),\n",
        "                nn.Linear (args.embed_size, args.embed_size),\n",
        "                nn.ReLU ( )\n",
        "            )\n",
        "\n",
        "\n",
        "            #text tfid\n",
        "            self.text_linear = nn.Linear(args.text_input, args.embed_size)\n",
        "            self.text_mapping = nn.Sequential(\n",
        "                    nn.Linear ( args.embed_size, args.embed_size),\n",
        "                    nn.ReLU ( ),\n",
        "                    nn.Dropout(0.1),\n",
        "                    nn.Linear ( args.embed_size, args.embed_size),\n",
        "                    nn.ReLU ( ),\n",
        "                    nn.Dropout(0.1),\n",
        "                    )\n",
        "\n",
        "            #common\n",
        "            self.pooling = nn.AdaptiveMaxPool1d(1)\n",
        "            self.relu = nn.ReLU ( )\n",
        "\n",
        "            #final output\n",
        "            self.cat_output = nn.Sequential (\n",
        "                        nn.Linear (args.embed_size * 4, args.embed_size),\n",
        "                        nn.ReLU ( ),\n",
        "                        nn.Dropout ( 0.1),\n",
        "                        nn.Linear ( args.embed_size, args.output_size),\n",
        "\n",
        "                    )\n",
        "\n",
        "\n",
        "        def forward(self, static_cat, static_val, dynamic, text):\n",
        "\n",
        "          #static\n",
        "          dsize_cat = list(static_cat.size()) + [-1]\n",
        "          out_flat_cat = self.static_embedding(static_cat.type(torch.LongTensor).reshape(-1)).reshape(dsize_cat)\n",
        "          out_flat_cat = self.static_mapping(out_flat_cat)\n",
        "          out_flat_cat = torch.transpose(out_flat_cat, 1,2).contiguous()\n",
        "          out_flat_cat = self.pooling(out_flat_cat)\n",
        "          out_flat_cat = out_flat_cat.view((out_flat_cat.size(0), -1))\n",
        "\n",
        "          out_flat_val = self.static_linear(static_val)\n",
        "          out_flat_val = self.static_mapping(out_flat_val)\n",
        "          out_flat_val = out_flat_val.unsqueeze(-1)\n",
        "          out_flat_val = self.pooling(out_flat_val)\n",
        "          out_flat_val = out_flat_val.view((out_flat_val.size(0), -1))\n",
        "\n",
        "          #text\n",
        "          #print(\"Running for text tfid\")\n",
        "          out_text = self.text_linear(text)\n",
        "          out_text = self.text_mapping(out_text)\n",
        "          out_text = out_text.unsqueeze(-1)\n",
        "          out_text = self.pooling(out_text)\n",
        "          out_text = out_text.view((out_text.size(0), -1))\n",
        "\n",
        "\n",
        "          #lstm\n",
        "          out_lstm, _ = self.lstm(dynamic)\n",
        "          out_lstm = self.lstm_mapping(out_lstm)\n",
        "          out_lstm = torch.transpose(out_lstm, 1,2).contiguous()\n",
        "          out_lstm = self.pooling(out_lstm)\n",
        "          out_lstm = out_lstm.view((out_lstm.size(0), -1))\n",
        "\n",
        "\n",
        "\n",
        "          output = self.cat_output(torch.cat((out_lstm, out_text, out_flat_val,out_flat_cat), 1))\n",
        "\n",
        "          return output\n",
        "\n",
        "\n"
      ],
      "metadata": {
        "id": "FE0pWC3ZQoPp"
      },
      "execution_count": null,
      "outputs": []
    },
    {
      "cell_type": "code",
      "source": [
        "import argparse\n",
        "\n",
        "# Define the argument parser\n",
        "parser = argparse.ArgumentParser(description='Argument parser for FusionLSTM model')\n",
        "\n",
        "# Add arguments\n",
        "#parser.add_argument('--static_input', type=int, help='static data input size')\n",
        "parser.add_argument('--static_cat_input', type=int, help='static cat data input size')\n",
        "parser.add_argument('--static_val_input', type=int, help='static value data input size')\n",
        "parser.add_argument('--text_input', type=int, help='text data input size')\n",
        "parser.add_argument('--dynamic_input', type=int, help='dynamic data input size')\n",
        "parser.add_argument('--embed_size', type=int, help='embedding/ rnn size')\n",
        "parser.add_argument('--hidden_size', type=int, help='hidden size for lstm')\n",
        "parser.add_argument('--num_layers', type=int, default=1, help='num of layers in lstm')\n",
        "parser.add_argument('--output_size', type=int, default=1, help='output size for all')\n",
        "\n",
        "# Parse the arguments\n",
        "args = parser.parse_args(args=[])\n",
        "\n",
        "# Print the arguments\n",
        "print(args)"
      ],
      "metadata": {
        "colab": {
          "base_uri": "https://localhost:8080/"
        },
        "id": "7QtO4VdETGzy",
        "outputId": "5d3d9cb5-e339-4ede-d1c4-05da609c65f2"
      },
      "execution_count": null,
      "outputs": [
        {
          "output_type": "stream",
          "name": "stdout",
          "text": [
            "Namespace(static_cat_input=None, static_val_input=None, text_input=None, dynamic_input=None, embed_size=None, hidden_size=None, num_layers=1, output_size=1)\n"
          ]
        }
      ]
    },
    {
      "cell_type": "code",
      "source": [
        "#args.static_input = static_tensor.shape[1]\n",
        "args.static_cat_input = 27\n",
        "args.static_val_input = 4\n",
        "args.dynamic_input = timeseries_tensor.shape[2]\n",
        "args.text_input = tfid_tensor.shape[1]\n",
        "\n",
        "args.embed_size = args.hidden_size  = 256\n",
        "\n",
        "\n",
        "args.num_layers = 2\n",
        "\n",
        "print(args)"
      ],
      "metadata": {
        "colab": {
          "base_uri": "https://localhost:8080/"
        },
        "id": "-FgZqTPKTvCp",
        "outputId": "0fd7c0ed-bcec-4f7f-aa17-a523a6e8a669"
      },
      "execution_count": null,
      "outputs": [
        {
          "output_type": "stream",
          "name": "stdout",
          "text": [
            "Namespace(static_cat_input=27, static_val_input=4, text_input=100, dynamic_input=18, embed_size=256, hidden_size=256, num_layers=2, output_size=1)\n"
          ]
        }
      ]
    },
    {
      "cell_type": "code",
      "source": [
        "lr = .000001\n",
        "\n",
        "lstm_model = FusionLSTM(args) #our lstm class\n",
        "\n",
        "criterion = nn.MSELoss()    # mean-squared error for regression\n",
        "optimizer = torch.optim.Adam(lstm_model.parameters(), lr=lr)\n",
        "\n",
        "print(lstm_model)"
      ],
      "metadata": {
        "colab": {
          "base_uri": "https://localhost:8080/"
        },
        "id": "roVGnnNbVvMX",
        "outputId": "6577e422-b62a-4549-9589-0a865a731d19"
      },
      "execution_count": null,
      "outputs": [
        {
          "output_type": "stream",
          "name": "stdout",
          "text": [
            "FusionLSTM(\n",
            "  (static_embedding): Embedding(27, 256)\n",
            "  (static_linear): Linear(in_features=4, out_features=256, bias=True)\n",
            "  (static_mapping): Sequential(\n",
            "    (0): Linear(in_features=256, out_features=256, bias=True)\n",
            "    (1): ReLU()\n",
            "    (2): Dropout(p=0.1, inplace=False)\n",
            "    (3): Linear(in_features=256, out_features=256, bias=True)\n",
            "    (4): ReLU()\n",
            "    (5): Dropout(p=0.1, inplace=False)\n",
            "  )\n",
            "  (lstm): LSTM(18, 256, num_layers=2, batch_first=True, bidirectional=True)\n",
            "  (lstm_mapping): Sequential(\n",
            "    (0): Linear(in_features=512, out_features=256, bias=True)\n",
            "    (1): ReLU()\n",
            "    (2): Linear(in_features=256, out_features=256, bias=True)\n",
            "    (3): ReLU()\n",
            "  )\n",
            "  (text_linear): Linear(in_features=100, out_features=256, bias=True)\n",
            "  (text_mapping): Sequential(\n",
            "    (0): Linear(in_features=256, out_features=256, bias=True)\n",
            "    (1): ReLU()\n",
            "    (2): Dropout(p=0.1, inplace=False)\n",
            "    (3): Linear(in_features=256, out_features=256, bias=True)\n",
            "    (4): ReLU()\n",
            "    (5): Dropout(p=0.1, inplace=False)\n",
            "  )\n",
            "  (pooling): AdaptiveMaxPool1d(output_size=1)\n",
            "  (relu): ReLU()\n",
            "  (cat_output): Sequential(\n",
            "    (0): Linear(in_features=768, out_features=256, bias=True)\n",
            "    (1): ReLU()\n",
            "    (2): Dropout(p=0.1, inplace=False)\n",
            "    (3): Linear(in_features=256, out_features=1, bias=True)\n",
            "  )\n",
            ")\n"
          ]
        }
      ]
    },
    {
      "cell_type": "code",
      "source": [
        "from torch.utils.data import Dataset\n",
        "class CustomDataset(Dataset):\n",
        "    def __init__(self, targets, static_data_cat, static_data_val, time_series_data, text_tfid):\n",
        "        self.time_series_data = time_series_data\n",
        "        self.static_data_cat = static_data_cat\n",
        "        self.static_data_val = static_data_val\n",
        "        self.text_tfid = text_tfid\n",
        "        self.targets = targets\n",
        "\n",
        "    def __len__(self):\n",
        "        return len(self.targets)\n",
        "\n",
        "    def __getitem__(self, idx):\n",
        "        x_ts = self.time_series_data[idx]\n",
        "        x_flat_cat = self.static_data_cat[idx]\n",
        "        x_flat_val = self.static_data_val[idx]\n",
        "        y_lab = self.targets[idx]\n",
        "        x_text = self.text_tfid[idx]\n",
        "        return y_lab, x_flat_cat, x_flat_val, x_ts, x_text"
      ],
      "metadata": {
        "id": "_JKw1Z7cshJv"
      },
      "execution_count": null,
      "outputs": []
    },
    {
      "cell_type": "code",
      "source": [
        "from torch.utils.data import DataLoader\n",
        "batch_size = 64\n",
        "\n",
        "# Create data loader\n",
        "dataset = CustomDataset(y_tensors, static_cat_tensor, static_val_tensor, timeseries_tensor,tfid_tensor )\n",
        "data_loader = DataLoader(dataset, batch_size=batch_size, shuffle=True)"
      ],
      "metadata": {
        "id": "PK0Gfhoys_sV"
      },
      "execution_count": null,
      "outputs": []
    },
    {
      "cell_type": "code",
      "source": [
        "n_epochs = 50\n",
        "\n",
        "for epoch in range(n_epochs):\n",
        "    sum_training_loss = 0\n",
        "\n",
        "    for batch_idx, (y_lab, x_flat_cat, x_flat_val, x_time, x_tfid) in enumerate(data_loader):\n",
        "        # x_time: Batch of time series data (shape: [batch_size, sequence_length, input_size])\n",
        "        # y: Batch of target values (shape: [batch_size, output_size])\n",
        "        # Pass data through the model\n",
        "          output_los = lstm_model.forward(x_flat_cat, x_flat_val, x_time, x_tfid)\n",
        "\n",
        "\n",
        "        # Calculate loss and update model parameters\n",
        "          loss = criterion(output_los, y_lab)\n",
        "          optimizer.zero_grad()\n",
        "          loss.backward()\n",
        "          optimizer.step()\n",
        "\n",
        "          sum_training_loss += loss\n",
        "\n",
        "    epoch_loss = sum_training_loss / len(train_loader)\n",
        "\n",
        "    if epoch % 2 == 0 or epoch % 49 == 0:\n",
        "          print(\"Epoch: %d, loss: %1.5f\" % (epoch,epoch_loss ))"
      ],
      "metadata": {
        "id": "Xm0Y7-qAYXgX"
      },
      "execution_count": null,
      "outputs": []
    },
    {
      "cell_type": "code",
      "source": [
        "# #to save\n",
        "PATH = '/content/gdrive/My Drive/Colab Notebooks/SPH6004/fusionlstm.pt'\n",
        "torch.save(lstm_model, PATH)\n",
        "\n",
        "# #to load\n",
        "# model = torch.load(PATH)\n",
        "# model.eval()"
      ],
      "metadata": {
        "id": "FeASO1iEb_D4"
      },
      "execution_count": null,
      "outputs": []
    },
    {
      "cell_type": "code",
      "source": [
        "# training set predicion\n",
        "with torch.no_grad():\n",
        "  lstm_model.eval()\n",
        "  train_predict = lstm_model(static_cat_tensor, static_val_tensor,timeseries_tensor,tfid_tensor)#forward pass\n"
      ],
      "metadata": {
        "id": "CtEXD-vg2weL"
      },
      "execution_count": null,
      "outputs": []
    },
    {
      "cell_type": "code",
      "source": [
        "data_predict = train_predict.data.numpy() #numpy conversion\n",
        "dataY_plot = y_tensors.data.numpy()\n",
        "data_predict = mm.inverse_transform(data_predict) #reverse transformation\n",
        "dataY_plot = mm.inverse_transform(dataY_plot)"
      ],
      "metadata": {
        "id": "u1kRGoCM4lmO"
      },
      "execution_count": null,
      "outputs": []
    },
    {
      "cell_type": "code",
      "source": [
        "import matplotlib.pyplot as plt\n",
        "\n",
        "plt.scatter(x=dataY_plot, y=data_predict) #actual plot\n",
        "plt.ylabel(\"Predicted LOS\")\n",
        "plt.xlabel(\"Actual LOS\")\n",
        "plt.title(\"Training prediction\")\n",
        "#plt.plot(, label='Predicted Data') #predicted plot\n",
        "#plt.legend()"
      ],
      "metadata": {
        "colab": {
          "base_uri": "https://localhost:8080/",
          "height": 490
        },
        "id": "GRrOyxdF4716",
        "outputId": "bc868b50-920f-4f55-f6bf-5df2646986d8"
      },
      "execution_count": null,
      "outputs": [
        {
          "output_type": "execute_result",
          "data": {
            "text/plain": [
              "Text(0.5, 1.0, 'Training prediction')"
            ]
          },
          "metadata": {},
          "execution_count": 37
        },
        {
          "output_type": "display_data",
          "data": {
            "text/plain": [
              "<Figure size 640x480 with 1 Axes>"
            ],
            "image/png": "[encoded data removed]"
          },
          "metadata": {}
        }
      ]
    },
    {
      "cell_type": "code",
      "source": [
        "from sklearn.metrics import mean_squared_error, mean_absolute_error\n",
        "\n",
        "mse = mean_squared_error(dataY_plot, data_predict)\n",
        "\n",
        "mae = mean_absolute_error(dataY_plot, data_predict)\n",
        "\n",
        "print(\"mse: %1.5f, mae: %1.5f\" % (mse, mae))"
      ],
      "metadata": {
        "colab": {
          "base_uri": "https://localhost:8080/"
        },
        "id": "1HecAMkfJIkR",
        "outputId": "0ead266a-66b0-42aa-fa20-cc608645f7da"
      },
      "execution_count": null,
      "outputs": [
        {
          "output_type": "stream",
          "name": "stdout",
          "text": [
            "mse: 22.66488, mae: 2.66207\n"
          ]
        }
      ]
    },
    {
      "cell_type": "markdown",
      "source": [
        "## Test set prediction"
      ],
      "metadata": {
        "id": "u-nUIeNRu2Is"
      }
    },
    {
      "cell_type": "code",
      "source": [
        "path = '/content/gdrive/My Drive/Colab Notebooks/SPH6004/TeamShare/ProcessedData/test/'\n",
        "\n",
        "dynamic_test = pd.read_csv(path+'timeseries.csv',index_col='patient')\n",
        "labels_test = pd.read_csv(path+'labels.csv',index_col='patient')\n",
        "static_test = pd.read_csv(path+'flat.csv',index_col='patient')\n",
        "tfid_test = pd.read_csv(path+'tfid_dataframe.csv',index_col='patient')"
      ],
      "metadata": {
        "id": "fGtQlxlQlANy"
      },
      "execution_count": null,
      "outputs": []
    },
    {
      "cell_type": "code",
      "source": [
        "y_test = np.array(labels_test['los_icu']).reshape(-1,1)\n",
        "mm = MinMaxScaler()\n",
        "y_mm_test = mm.fit_transform(y_test)\n",
        "y_tensors_test = Variable(torch.Tensor(y_mm_test))"
      ],
      "metadata": {
        "id": "mbsZIJ6Lk92S"
      },
      "execution_count": null,
      "outputs": []
    },
    {
      "cell_type": "code",
      "source": [
        "padded_test = add_padding(dynamic_test.reset_index(),'time_slot','patient')\n",
        "\n",
        "sequence_length = 4\n",
        "input_features = 18\n",
        "timeseries_tensors_test = torch.Tensor(np.array(padded_test.drop(columns='time_slot'))).view(-1, sequence_length, input_features)\n",
        "\n",
        "static_cat_tensor_test = torch.Tensor(np.array(static_test.drop(columns=static.columns[range(1,5)])))\n",
        "static_val_tensor_test = torch.Tensor(np.array(static_test.iloc[:,range(1,5)] ))\n",
        "\n",
        "tfid_tensor_test = torch.Tensor(np.array(tfid_test))\n",
        "\n",
        "\n",
        "# checking the size of data\n",
        "print('Shapes:',y_tensors_test.shape, timeseries_tensors_test.shape,static_cat_tensor_test.shape, static_val_tensor_test.shape, tfid_tensor_test.shape)\n"
      ],
      "metadata": {
        "colab": {
          "base_uri": "https://localhost:8080/"
        },
        "outputId": "da47dfd4-09a6-4653-fc6b-ec684b1c33ce",
        "id": "bpjeEvXmk92T"
      },
      "execution_count": null,
      "outputs": [
        {
          "output_type": "stream",
          "name": "stdout",
          "text": [
            "Shapes: torch.Size([2589, 1]) torch.Size([2589, 4, 18]) torch.Size([2589, 27]) torch.Size([2589, 4]) torch.Size([2589, 100])\n"
          ]
        }
      ]
    },
    {
      "cell_type": "code",
      "source": [
        "with torch.no_grad():\n",
        "  lstm_model.eval()\n",
        "  test_predict = lstm_model(static_cat_tensor_test, static_val_tensor_test, timeseries_tensors_test,tfid_tensor_test)#forward pass\n",
        "\n",
        "data_predict = test_predict.data.numpy() #numpy conversion\n",
        "dataY_plot = y_tensors_test.data.numpy()"
      ],
      "metadata": {
        "id": "ZcMIrEHB84kZ"
      },
      "execution_count": null,
      "outputs": []
    },
    {
      "cell_type": "code",
      "source": [
        "data_predict = mm.inverse_transform(data_predict) #reverse transformation\n",
        "dataY_plot = mm.inverse_transform(dataY_plot)"
      ],
      "metadata": {
        "id": "Kta_ZKfn6dU6"
      },
      "execution_count": null,
      "outputs": []
    },
    {
      "cell_type": "code",
      "source": [
        "plt.scatter(x=dataY_plot, y=data_predict) #actual plot\n",
        "plt.ylabel(\"Predicted LOS\")\n",
        "plt.xlabel(\"Actual LOS\")\n",
        "plt.title('Validation set prediction')"
      ],
      "metadata": {
        "colab": {
          "base_uri": "https://localhost:8080/",
          "height": 490
        },
        "id": "4rSZUxwTmJOq",
        "outputId": "a77959cf-891c-4d6d-8f7e-74a37f251d48"
      },
      "execution_count": null,
      "outputs": [
        {
          "output_type": "execute_result",
          "data": {
            "text/plain": [
              "Text(0.5, 1.0, 'Validation set prediction')"
            ]
          },
          "metadata": {},
          "execution_count": 44
        },
        {
          "output_type": "display_data",
          "data": {
            "text/plain": [
              "<Figure size 640x480 with 1 Axes>"
            ],
            "image/png": "[encoded data removed]"
          },
          "metadata": {}
        }
      ]
    },
    {
      "cell_type": "code",
      "source": [
        "mse = mean_squared_error(dataY_plot, data_predict)\n",
        "\n",
        "mae = mean_absolute_error(dataY_plot, data_predict)\n",
        "\n",
        "print(\"mse: %1.5f, mae: %1.5f\" % (mse, mae))"
      ],
      "metadata": {
        "colab": {
          "base_uri": "https://localhost:8080/"
        },
        "id": "2UBQxfxxKED6",
        "outputId": "f894d978-66c7-421a-82ff-65db5974cc08"
      },
      "execution_count": null,
      "outputs": [
        {
          "output_type": "stream",
          "name": "stdout",
          "text": [
            "mse: 23.66353, mae: 2.70569\n"
          ]
        }
      ]
    },
    {
      "cell_type": "markdown",
      "source": [
        "# Multitask"
      ],
      "metadata": {
        "id": "3Np39LaLqMY9"
      }
    },
    {
      "cell_type": "code",
      "source": [
        "\n",
        "\n",
        "class MultitaskLSTM(nn.Module):\n",
        "        def __init__(self, args):\n",
        "            super(MultitaskLSTM, self).__init__()\n",
        "            self.args = args\n",
        "\n",
        "            #static\n",
        "            self.static_embedding = nn.Embedding(args.static_cat_input, args.embed_size)\n",
        "            self.static_linear = nn.Linear(args.static_val_input, args.embed_size)\n",
        "            self.static_mapping = nn.Sequential(\n",
        "                    nn.Linear ( args.embed_size, args.embed_size),\n",
        "                    nn.ReLU ( ),\n",
        "                    nn.Dropout(0.1),\n",
        "                    nn.Linear ( args.embed_size, args.embed_size),\n",
        "                    nn.ReLU ( ),\n",
        "                    nn.Dropout(0.1),\n",
        "                    )\n",
        "\n",
        "            #dynamic\n",
        "            self.lstm = nn.LSTM (input_size=args.dynamic_input,\n",
        "                                  hidden_size=args.hidden_size,\n",
        "                                  num_layers=args.num_layers,\n",
        "                                  batch_first=True,\n",
        "                                  bidirectional=True)\n",
        "\n",
        "            lstm_size = args.embed_size\n",
        "\n",
        "            lstm_size *= 2\n",
        "\n",
        "            self.lstm_mapping = nn.Sequential (\n",
        "                nn.Linear (lstm_size, args.embed_size),\n",
        "                nn.ReLU ( ),\n",
        "                nn.Linear (args.embed_size, args.embed_size),\n",
        "                nn.ReLU ( )\n",
        "            )\n",
        "\n",
        "\n",
        "            #text tfid\n",
        "            self.text_linear = nn.Linear(args.text_input, args.embed_size)\n",
        "            self.text_mapping = nn.Sequential(\n",
        "                    nn.Linear ( args.embed_size, args.embed_size),\n",
        "                    nn.ReLU ( ),\n",
        "                    nn.Dropout(0.1),\n",
        "                    nn.Linear ( args.embed_size, args.embed_size),\n",
        "                    nn.ReLU ( ),\n",
        "                    nn.Dropout(0.1),\n",
        "                    )\n",
        "\n",
        "            #common\n",
        "            self.pooling = nn.AdaptiveMaxPool1d(1)\n",
        "            self.relu = nn.ReLU ( )\n",
        "\n",
        "            #final output\n",
        "            self.cat_output_los = nn.Sequential (\n",
        "                        nn.Linear (args.embed_size * 4, args.embed_size),\n",
        "                        nn.ReLU ( ),\n",
        "                        nn.Dropout ( 0.1),\n",
        "                        nn.Linear ( args.embed_size, args.output_size),\n",
        "                    )\n",
        "\n",
        "            # Fully connected layer\n",
        "\n",
        "            self.cat_output_mort = nn.Sequential(\n",
        "                        nn.Linear (args.embed_size * 4, args.embed_size),\n",
        "                        nn.ReLU ( ),\n",
        "                        nn.Dropout ( 0.1),\n",
        "                        nn.Linear ( args.embed_size, args.output_size),\n",
        "                        nn.Softmax(dim=1),\n",
        "\n",
        "            )\n",
        "\n",
        "\n",
        "            self.loss_huber = nn.HuberLoss()\n",
        "            self.loss_mort = nn.BCEWithLogitsLoss()\n",
        "\n",
        "            self.alpha = 0.5\n",
        "\n",
        "        def loss(self, y_hat_los, y_los, y_hat_mort, y_mort):\n",
        "          #bool_type = torch.cuda.BoolTensor if device == torch.device('cuda') else torch.BoolTensor\n",
        "          los_loss =  self.loss_huber(y_hat_los, y_los)\n",
        "          loss = los_loss + self.loss_mort(y_hat_mort, y_mort) * self.alpha\n",
        "          return loss\n",
        "\n",
        "        def forward(self, static_cat, static_val, dynamic, text):\n",
        "\n",
        "          #static\n",
        "          dsize_cat = list(static_cat.size()) + [-1]\n",
        "          #print(dsize_cat)\n",
        "          #print(\"Running for cat flat features\")\n",
        "          out_flat_cat = self.static_embedding(static_cat.type(torch.LongTensor).reshape(-1)).reshape(dsize_cat)\n",
        "          #print(\"   cat size after embed:\", out_flat_cat.shape)\n",
        "          out_flat_cat = self.static_mapping(out_flat_cat)\n",
        "          #print(\"   mapping out size:\", out_flat_cat.shape)\n",
        "          out_flat_cat = torch.transpose(out_flat_cat, 1,2).contiguous()\n",
        "          #print(\"   transpose resizing:\", out_flat_cat.shape)\n",
        "          out_flat_cat = self.pooling(out_flat_cat)\n",
        "          #print(\"   pooling out size:\", out_flat_cat.shape)\n",
        "          out_flat_cat = out_flat_cat.view((out_flat_cat.size(0), -1))\n",
        "          #print(\"   resizing out size:\", out_flat_cat.shape)\n",
        "\n",
        "          #print(\"Running static val\")\n",
        "          out_flat_val = self.static_linear(static_val)\n",
        "          #print(\"   val size after linear:\", out_flat_val.shape)\n",
        "          out_flat_val = self.static_mapping(out_flat_val)\n",
        "          #print(\"   val size after mapping:\", out_flat_val.shape)\n",
        "          out_flat_val = out_flat_val.unsqueeze(-1)\n",
        "          #print(\"   unsqueeze resizing:\", out_flat_val.shape)\n",
        "          out_flat_val = self.pooling(out_flat_val)\n",
        "          #print(\"   pooling out size:\", out_flat_val.shape)\n",
        "          out_flat_val = out_flat_val.view((out_flat_val.size(0), -1))\n",
        "          #print(\"   resizing out size:\", out_flat_val.shape)\n",
        "\n",
        "          #text\n",
        "          #print(\"Running for text tfid\")\n",
        "          out_text = self.text_linear(text)#.view(tsize)\n",
        "          #print(\"   linear out size:\", out_text.shape)\n",
        "          out_text = self.text_mapping(out_text)\n",
        "          #print(\"   mapping out size:\", out_text.shape)\n",
        "          out_text = out_text.unsqueeze(-1)\n",
        "          #print(\"   unsqueeze resizing:\", out_text.shape)\n",
        "          out_text = self.pooling(out_text)\n",
        "          #print(\"   pooling out size:\", out_text.shape)\n",
        "          out_text = out_text.view((out_text.size(0), -1))\n",
        "          #print(\"   resizing out size:\", out_text.shape)\n",
        "\n",
        "\n",
        "          #lstm\n",
        "          #print(\"Running for timeseires\")\n",
        "          out_lstm, _ = self.lstm(dynamic)\n",
        "          #print(\"   lstm out size:\", out_lstm.shape)\n",
        "          out_lstm = self.lstm_mapping(out_lstm)\n",
        "          #print(\"   mapping out size:\", out_lstm.shape)\n",
        "          out_lstm = torch.transpose(out_lstm, 1,2).contiguous()\n",
        "          #print(\"   after transpose reshaping:\", out_lstm.shape)\n",
        "          out_lstm = self.pooling(out_lstm)\n",
        "          #print(\"   pooling out size:\", out_lstm.shape)\n",
        "          out_lstm = out_lstm.view((out_lstm.size(0), -1))\n",
        "          #print(\"   resizing out size:\", out_lstm.shape)\n",
        "\n",
        "\n",
        "\n",
        "          output_los = self.cat_output_los(torch.cat((out_lstm, out_text, out_flat_val,out_flat_cat), 1))\n",
        "          output_mort = self.cat_output_mort(torch.cat((out_lstm, out_text, out_flat_val,out_flat_cat), 1))\n",
        "\n",
        "          return [output_los, output_mort]\n",
        "\n",
        "\n"
      ],
      "metadata": {
        "id": "ty939ImuqOmV"
      },
      "execution_count": null,
      "outputs": []
    },
    {
      "cell_type": "code",
      "source": [
        "lr = .000001\n",
        "multi_model = MultitaskLSTM(args) #our lstm class\n",
        "\n",
        "optimizer = torch.optim.Adam(multi_model.parameters(), lr=lr)\n",
        "\n",
        "print(multi_model)"
      ],
      "metadata": {
        "colab": {
          "base_uri": "https://localhost:8080/"
        },
        "id": "nru0WfEHqPyI",
        "outputId": "798b1805-c4d6-4df7-b722-1ddaeda0c11d"
      },
      "execution_count": null,
      "outputs": [
        {
          "output_type": "stream",
          "name": "stdout",
          "text": [
            "MultitaskLSTM(\n",
            "  (static_embedding): Embedding(27, 256)\n",
            "  (static_linear): Linear(in_features=4, out_features=256, bias=True)\n",
            "  (static_mapping): Sequential(\n",
            "    (0): Linear(in_features=256, out_features=256, bias=True)\n",
            "    (1): ReLU()\n",
            "    (2): Dropout(p=0.1, inplace=False)\n",
            "    (3): Linear(in_features=256, out_features=256, bias=True)\n",
            "    (4): ReLU()\n",
            "    (5): Dropout(p=0.1, inplace=False)\n",
            "  )\n",
            "  (lstm): LSTM(18, 256, num_layers=2, batch_first=True, bidirectional=True)\n",
            "  (lstm_mapping): Sequential(\n",
            "    (0): Linear(in_features=512, out_features=256, bias=True)\n",
            "    (1): ReLU()\n",
            "    (2): Linear(in_features=256, out_features=256, bias=True)\n",
            "    (3): ReLU()\n",
            "  )\n",
            "  (text_linear): Linear(in_features=100, out_features=256, bias=True)\n",
            "  (text_mapping): Sequential(\n",
            "    (0): Linear(in_features=256, out_features=256, bias=True)\n",
            "    (1): ReLU()\n",
            "    (2): Dropout(p=0.1, inplace=False)\n",
            "    (3): Linear(in_features=256, out_features=256, bias=True)\n",
            "    (4): ReLU()\n",
            "    (5): Dropout(p=0.1, inplace=False)\n",
            "  )\n",
            "  (pooling): AdaptiveMaxPool1d(output_size=1)\n",
            "  (relu): ReLU()\n",
            "  (cat_output_los): Sequential(\n",
            "    (0): Linear(in_features=1024, out_features=256, bias=True)\n",
            "    (1): ReLU()\n",
            "    (2): Dropout(p=0.1, inplace=False)\n",
            "    (3): Linear(in_features=256, out_features=1, bias=True)\n",
            "  )\n",
            "  (cat_output_mort): Sequential(\n",
            "    (0): Linear(in_features=1024, out_features=256, bias=True)\n",
            "    (1): ReLU()\n",
            "    (2): Dropout(p=0.1, inplace=False)\n",
            "    (3): Linear(in_features=256, out_features=1, bias=True)\n",
            "    (4): Softmax(dim=1)\n",
            "  )\n",
            "  (loss_huber): HuberLoss()\n",
            "  (loss_mort): BCEWithLogitsLoss()\n",
            ")\n"
          ]
        }
      ]
    },
    {
      "cell_type": "code",
      "source": [
        "from torch.utils.data import Dataset\n",
        "class CustomDataset(Dataset):\n",
        "    def __init__(self, targets_los, targets_mort, static_data_cat, static_data_val, time_series_data, text_tfid):\n",
        "        self.time_series_data = time_series_data\n",
        "        self.static_data_cat = static_data_cat\n",
        "        self.static_data_val = static_data_val\n",
        "        self.text_tfid = text_tfid\n",
        "        self.targets_los = targets_los\n",
        "        self.targets_mort = targets_mort\n",
        "\n",
        "    def __len__(self):\n",
        "        return len(self.targets_los)\n",
        "\n",
        "    def __getitem__(self, idx):\n",
        "        x_ts = self.time_series_data[idx]\n",
        "        x_flat_cat = self.static_data_cat[idx]\n",
        "        x_flat_val = self.static_data_val[idx]\n",
        "        y_los = self.targets_los[idx]\n",
        "        y_mort = self.targets_mort[idx]\n",
        "        x_text = self.text_tfid[idx]\n",
        "        return y_los, y_mort, x_flat_cat, x_flat_val, x_ts, x_text"
      ],
      "metadata": {
        "id": "VfbfvuVBt2_4"
      },
      "execution_count": null,
      "outputs": []
    },
    {
      "cell_type": "code",
      "source": [
        "import copy\n",
        "y_tensor_loss = copy.deepcopy(y_tensors)\n",
        "\n",
        "y_mort = np.array(labels['icu_death']).reshape(-1,1)\n",
        "\n",
        "y_tensor_mort = Variable(torch.Tensor(y_mort))"
      ],
      "metadata": {
        "id": "WiWQibyVuLtv"
      },
      "execution_count": null,
      "outputs": []
    },
    {
      "cell_type": "code",
      "source": [
        "print(y_tensor_loss.shape, y_tensor_mort.shape, static_cat_tensor.shape, static_val_tensor.shape, timeseries_tensor.shape, tfid_tensor.shape)"
      ],
      "metadata": {
        "colab": {
          "base_uri": "https://localhost:8080/"
        },
        "id": "oD1JMpYe2cmp",
        "outputId": "55ce7e46-2d30-4e70-e932-b6d6b423c10f"
      },
      "execution_count": null,
      "outputs": [
        {
          "output_type": "stream",
          "name": "stdout",
          "text": [
            "torch.Size([12077, 1]) torch.Size([12077, 1]) torch.Size([12077, 27]) torch.Size([12077, 4]) torch.Size([12077, 4, 18]) torch.Size([12077, 100])\n"
          ]
        }
      ]
    },
    {
      "cell_type": "code",
      "source": [
        "from torch.utils.data import DataLoader\n",
        "batch_size = 64\n",
        "\n",
        "# Create data loader\n",
        "dataset = CustomDataset(y_tensor_loss, y_tensor_mort, static_cat_tensor, static_val_tensor, timeseries_tensor,tfid_tensor )\n",
        "data_loader = DataLoader(dataset, batch_size=batch_size, shuffle=True)"
      ],
      "metadata": {
        "id": "mhg2onbYt2_5"
      },
      "execution_count": null,
      "outputs": []
    },
    {
      "cell_type": "code",
      "source": [
        "n_epochs = 50\n",
        "\n",
        "for epoch in range(n_epochs):\n",
        "    sum_training_loss = 0\n",
        "\n",
        "    for batch_idx, (y_lab, y_mort, x_flat_cat, x_flat_val, x_time, x_tfid) in enumerate(data_loader):\n",
        "\n",
        "          output_los, output_mort = multi_model.forward(x_flat_cat, x_flat_val, x_time, x_tfid)\n",
        "\n",
        "\n",
        "        # Calculate loss and update model parameters\n",
        "          loss = multi_model.loss(output_los, y_lab, output_mort, y_mort )\n",
        "          optimizer.zero_grad()\n",
        "          loss.backward()\n",
        "          optimizer.step()\n",
        "\n",
        "          sum_training_loss += loss\n",
        "\n",
        "    epoch_loss = sum_training_loss / len(data_loader)\n",
        "\n",
        "    if epoch % 2 == 0 or epoch % 49 == 0:\n",
        "          print(\"Epoch: %d, loss: %1.5f\" % (epoch, epoch_loss))"
      ],
      "metadata": {
        "id": "9QsqIfr8tlpi"
      },
      "execution_count": null,
      "outputs": []
    },
    {
      "cell_type": "markdown",
      "source": [
        "## Training set prediction"
      ],
      "metadata": {
        "id": "Oi9aws2hveM1"
      }
    },
    {
      "cell_type": "code",
      "source": [
        "with torch.no_grad():\n",
        "  lstm_model.eval()\n",
        "  train_predict = multi_model(static_cat_tensor, static_val_tensor,timeseries_tensor,tfid_tensor)#forward pass\n"
      ],
      "metadata": {
        "id": "IbFXaYep-cJh"
      },
      "execution_count": null,
      "outputs": []
    },
    {
      "cell_type": "code",
      "source": [
        "data_predict_los, data_predict_mort = train_predict #numpy conversion\n",
        "data_predict_los = data_predict_los.data.numpy()\n",
        "dataY_plot = y_tensors.data.numpy()\n",
        "data_predict = mm.inverse_transform(data_predict_los) #reverse transformation\n",
        "dataY_plot = mm.inverse_transform(dataY_plot)"
      ],
      "metadata": {
        "id": "5nQoqxH--cJi"
      },
      "execution_count": null,
      "outputs": []
    },
    {
      "cell_type": "code",
      "source": [
        "data_predict_mort.shape"
      ],
      "metadata": {
        "colab": {
          "base_uri": "https://localhost:8080/"
        },
        "id": "Dk7As3cWTQVH",
        "outputId": "319cce6d-b375-40ab-fcb3-171776213cb2"
      },
      "execution_count": null,
      "outputs": [
        {
          "output_type": "execute_result",
          "data": {
            "text/plain": [
              "torch.Size([12077, 1])"
            ]
          },
          "metadata": {},
          "execution_count": 82
        }
      ]
    },
    {
      "cell_type": "code",
      "source": [
        "from sklearn.metrics import roc_auc_score\n",
        "\n",
        "y_true = np.asarray(labels.icu_death)\n",
        "\n",
        "y_pred_mot = data_predict_mort.data.numpy()\n",
        "\n",
        "roc_auc_score(y_true,y_pred_mot)"
      ],
      "metadata": {
        "colab": {
          "base_uri": "https://localhost:8080/"
        },
        "id": "iwhgL2aVTEZI",
        "outputId": "ebf1b5a9-08d1-404c-9ed5-802f6b57fd5d"
      },
      "execution_count": null,
      "outputs": [
        {
          "output_type": "execute_result",
          "data": {
            "text/plain": [
              "0.5"
            ]
          },
          "metadata": {},
          "execution_count": 86
        }
      ]
    },
    {
      "cell_type": "code",
      "source": [
        "import matplotlib.pyplot as plt\n",
        "\n",
        "plt.scatter(x=dataY_plot, y=data_predict) #actual plot\n",
        "plt.ylabel(\"Predicted LOS\")\n",
        "plt.xlabel(\"Actual LOS\")\n",
        "plt.title(\"Training prediction\")\n",
        "#plt.plot(, label='Predicted Data') #predicted plot\n",
        "#plt.legend()"
      ],
      "metadata": {
        "colab": {
          "base_uri": "https://localhost:8080/",
          "height": 490
        },
        "outputId": "4c4202f0-34fa-4eaf-a3f3-0d5c4ecb5ea3",
        "id": "JBq1cCNz-cJi"
      },
      "execution_count": null,
      "outputs": [
        {
          "output_type": "execute_result",
          "data": {
            "text/plain": [
              "Text(0.5, 1.0, 'Training prediction')"
            ]
          },
          "metadata": {},
          "execution_count": 67
        },
        {
          "output_type": "display_data",
          "data": {
            "text/plain": [
              "<Figure size 640x480 with 1 Axes>"
            ],
            "image/png": "[encoded data removed]"
          },
          "metadata": {}
        }
      ]
    },
    {
      "cell_type": "code",
      "source": [
        "from sklearn.metrics import mean_squared_error, mean_absolute_error\n",
        "\n",
        "mse = mean_squared_error(dataY_plot, data_predict)\n",
        "\n",
        "mae = mean_absolute_error(dataY_plot, data_predict)\n",
        "\n",
        "print(\"mse: %1.5f, mae: %1.5f\" % (mse, mae))"
      ],
      "metadata": {
        "colab": {
          "base_uri": "https://localhost:8080/"
        },
        "outputId": "9caf8c60-8d46-468b-dbb8-b318ba65d1ff",
        "id": "8mevhYJW-cJi"
      },
      "execution_count": null,
      "outputs": [
        {
          "output_type": "stream",
          "name": "stdout",
          "text": [
            "mse: 19.02976, mae: 2.92072\n"
          ]
        }
      ]
    },
    {
      "cell_type": "markdown",
      "source": [
        "## Test set prediction"
      ],
      "metadata": {
        "id": "dmqSaUbQvkd2"
      }
    },
    {
      "cell_type": "code",
      "source": [
        "y_test = np.array(labels_test['los_icu']).reshape(-1,1)\n",
        "mm = MinMaxScaler()\n",
        "y_mm_test = mm.fit_transform(y_test)\n",
        "y_tensors_test = Variable(torch.Tensor(y_mm_test))"
      ],
      "metadata": {
        "id": "X42wg8QvAJ_d"
      },
      "execution_count": null,
      "outputs": []
    },
    {
      "cell_type": "code",
      "source": [
        "with torch.no_grad():\n",
        "  lstm_model.eval()\n",
        "  test_predict = multi_model(static_cat_tensor_test, static_val_tensor_test, timeseries_tensors_test,tfid_tensor_test)#forward pass\n",
        "\n",
        "data_predict_los, data_pred_mort = test_predict #numpy conversion\n",
        "data_predict_los=data_predict_los.data.numpy()\n",
        "dataY_plot = y_tensors_test.data.numpy()"
      ],
      "metadata": {
        "id": "wr7x-SRY_Pq_"
      },
      "execution_count": null,
      "outputs": []
    },
    {
      "cell_type": "code",
      "source": [
        "data_predict_los = mm.inverse_transform(data_predict_los) #reverse transformation\n",
        "dataY_plot = mm.inverse_transform(dataY_plot)"
      ],
      "metadata": {
        "id": "r98a8d4h_hac"
      },
      "execution_count": null,
      "outputs": []
    },
    {
      "cell_type": "code",
      "source": [
        "plt.scatter(x=dataY_plot, y=data_predict_los) #actual plot\n",
        "plt.ylabel(\"Predicted LOS\")\n",
        "plt.xlabel(\"Actual LOS\")\n",
        "plt.title('Validation set prediction')"
      ],
      "metadata": {
        "colab": {
          "base_uri": "https://localhost:8080/",
          "height": 490
        },
        "outputId": "3ddc1fe9-0851-4457-dd96-f6873f1feb85",
        "id": "LSGjWJMu_had"
      },
      "execution_count": null,
      "outputs": [
        {
          "output_type": "execute_result",
          "data": {
            "text/plain": [
              "Text(0.5, 1.0, 'Validation set prediction')"
            ]
          },
          "metadata": {},
          "execution_count": 79
        },
        {
          "output_type": "display_data",
          "data": {
            "text/plain": [
              "<Figure size 640x480 with 1 Axes>"
            ],
            "image/png": "[encoded data removed]"
          },
          "metadata": {}
        }
      ]
    },
    {
      "cell_type": "code",
      "source": [
        "mse = mean_squared_error(dataY_plot, data_predict_los)\n",
        "\n",
        "mae = mean_absolute_error(dataY_plot, data_predict_los)\n",
        "\n",
        "print(\"mse: %1.5f, mae: %1.5f\" % (mse, mae))"
      ],
      "metadata": {
        "colab": {
          "base_uri": "https://localhost:8080/"
        },
        "id": "b6cvboid_rno",
        "outputId": "7d7c1e9c-3d2e-4075-c978-b0bb485a872b"
      },
      "execution_count": null,
      "outputs": [
        {
          "output_type": "stream",
          "name": "stdout",
          "text": [
            "mse: 19.86994, mae: 2.99153\n"
          ]
        }
      ]
    },
    {
      "cell_type": "code",
      "source": [
        "# #to save\n",
        "PATH = '/content/gdrive/My Drive/Colab Notebooks/SPH6004/multitasl_lstm.pt'\n",
        "torch.save(multi_model, PATH)\n",
        "\n",
        "# #to load\n",
        "# model = torch.load(PATH)\n",
        "# model.eval()"
      ],
      "metadata": {
        "id": "tYhfY6gBXOi9"
      },
      "execution_count": null,
      "outputs": []
    }
  ]
}