{
  "nbformat": 4,
  "nbformat_minor": 0,
  "metadata": {
    "colab": {
      "provenance": []
    },
    "kernelspec": {
      "name": "python3",
      "display_name": "Python 3"
    },
    "language_info": {
      "name": "python"
    }
  },
  "cells": [
    {
      "cell_type": "code",
      "execution_count": null,
      "metadata": {
        "id": "krj4DXyH6PkK"
      },
      "outputs": [],
      "source": [
        "import numpy as np\n",
        "import pandas as pd"
      ]
    },
    {
      "cell_type": "code",
      "source": [
        "static = pd.read_csv('/content/static.csv')\n",
        "text = pd.read_csv('/content/notes.csv')\n",
        "\n",
        "static = static[['id', 'los_icu']]\n",
        "text = text[['id', 'charttime', 'text']]"
      ],
      "metadata": {
        "id": "CLJ0YLY0D-A7"
      },
      "execution_count": null,
      "outputs": []
    },
    {
      "cell_type": "code",
      "source": [
        "data = static.set_index('id').join(text.set_index('id'))\n",
        "data = data.reset_index()"
      ],
      "metadata": {
        "id": "PXCM5X4I68CV"
      },
      "execution_count": null,
      "outputs": []
    },
    {
      "cell_type": "code",
      "source": [
        "import re\n",
        "import nltk\n",
        "from nltk.tokenize import TreebankWordTokenizer\n",
        "\n",
        "# Data Preprocessing\n",
        "data['text'] = data['text'].map(lambda x: x.lower())\n",
        "data['text'] =  data['text'].apply(lambda x: re.sub(r'[\\r\\n]+', ' ', x))\n",
        "data['text'] =  data['text'].apply(lambda x: re.sub(r'[^\\x00-\\x7F]+', ' ', x))"
      ],
      "metadata": {
        "id": "4b4-9pbd69sC"
      },
      "execution_count": null,
      "outputs": []
    },
    {
      "cell_type": "code",
      "source": [
        "from sklearn.feature_extraction.text import TfidfVectorizer\n",
        "\n",
        "# Feature Extraction\n",
        "vectorizer = TfidfVectorizer(max_features=100)\n",
        "TFidf_features = vectorizer.fit_transform(data['text']).toarray()"
      ],
      "metadata": {
        "id": "47aB9tGq7BmY"
      },
      "execution_count": null,
      "outputs": []
    },
    {
      "cell_type": "code",
      "source": [
        "# Time series data transformation\n",
        "grouped = data.groupby('id')\n",
        "\n",
        "# Initialize lists to store sequences and subjects\n",
        "sequences = []\n",
        "subjects = []\n",
        "#output = []\n",
        "\n",
        "for subject, group in grouped:\n",
        "    # Extract timepoints for the subject\n",
        "    timepoints = group['charttime'].values\n",
        "    los = group['los_icu'].values\n",
        "\n",
        "    # Append the subject to the list of subjects\n",
        "    subjects.append(subject)\n",
        "\n",
        "    #output.append(los)\n",
        "\n",
        "    # Retrieve feature values for each timepoint\n",
        "    feature_values_sequence = [TFidf_features[i - 1] for i in range(len(timepoints))]\n",
        "\n",
        "    # Append feature values as a sequence\n",
        "    sequences.append(feature_values_sequence)\n"
      ],
      "metadata": {
        "id": "2r0IbTj_7GXW"
      },
      "execution_count": null,
      "outputs": []
    }
  ]
}